{
  "cells": [
    {
      "cell_type": "markdown",
      "metadata": {
        "id": "topeP_erxiXV"
      },
      "source": [
        "### Download Data"
      ]
    },
    {
      "cell_type": "code",
      "execution_count": null,
      "metadata": {
        "colab": {
          "base_uri": "https://localhost:8080/"
        },
        "id": "ZXA6NAcSwFcQ",
        "outputId": "1398593b-5ae7-477a-d7a0-4b996136f07c"
      },
      "outputs": [],
      "source": [
        "# Get all the dataset files\n",
        "!wget -q \\\n",
        "    https://api.datameka.com:8080/media/uploads/competition/a7eeb262-9c95-477e-913f-4b41c2ce1d90/label.csv \\\n",
        "    https://api.datameka.com:8080/media/uploads/competition/a7eeb262-9c95-477e-913f-4b41c2ce1d90/visibles.zip \\\n",
        "    https://api.datameka.com:8080/media/uploads/competition/a7eeb262-9c95-477e-913f-4b41c2ce1d90/masks.zip \\\n",
        "    https://api.datameka.com:8080/media/uploads/competition/a7eeb262-9c95-477e-913f-4b41c2ce1d90/infrareds.zip\n",
        "\n",
        "# unzip them\n",
        "!unzip ./visibles.zip -d ./\n",
        "!unzip ./masks.zip -d ./\n",
        "!unzip ./infrareds.zip -d ./\n",
        "\n",
        "!rm visibles.zip masks.zip infrareds.zip"
      ]
    },
    {
      "cell_type": "code",
      "execution_count": 2,
      "metadata": {
        "id": "sLseLvp27quW"
      },
      "outputs": [],
      "source": [
        "VISIBLE_FOLDER  = \"./visibles/\"\n",
        "INFRARED_FOLDER = \"./infrareds/\"\n",
        "MASK_FOLDER     = \"./masks/\"\n",
        "LABEL_FILE      = \"./label.csv\""
      ]
    },
    {
      "cell_type": "code",
      "execution_count": 3,
      "metadata": {
        "colab": {
          "base_uri": "https://localhost:8080/"
        },
        "id": "jQNcMpUsEKFW",
        "outputId": "569e2343-9c59-42d9-e960-60d835fb00b0"
      },
      "outputs": [
        {
          "name": "stdout",
          "output_type": "stream",
          "text": [
            "\u001b[?25l     \u001b[90m━━━━━━━━━━━━━━━━━━━━━━━━━━━━━━━━━━━━━━━━\u001b[0m \u001b[32m0.0/106.7 kB\u001b[0m \u001b[31m?\u001b[0m eta \u001b[36m-:--:--\u001b[0m\r\u001b[2K     \u001b[91m━━━━━━━━━━━━━━━━━━━━━━━━━━━━━━━━━━━━━\u001b[0m\u001b[90m╺\u001b[0m\u001b[90m━\u001b[0m \u001b[32m102.4/106.7 kB\u001b[0m \u001b[31m3.1 MB/s\u001b[0m eta \u001b[36m0:00:01\u001b[0m\r\u001b[2K     \u001b[90m━━━━━━━━━━━━━━━━━━━━━━━━━━━━━━━━━━━━━━━\u001b[0m \u001b[32m106.7/106.7 kB\u001b[0m \u001b[31m2.3 MB/s\u001b[0m eta \u001b[36m0:00:00\u001b[0m\n",
            "\u001b[?25h\u001b[?25l     \u001b[90m━━━━━━━━━━━━━━━━━━━━━━━━━━━━━━━━━━━━━━━━\u001b[0m \u001b[32m0.0/58.8 kB\u001b[0m \u001b[31m?\u001b[0m eta \u001b[36m-:--:--\u001b[0m\r\u001b[2K     \u001b[90m━━━━━━━━━━━━━━━━━━━━━━━━━━━━━━━━━━━━━━━━\u001b[0m \u001b[32m58.8/58.8 kB\u001b[0m \u001b[31m3.5 MB/s\u001b[0m eta \u001b[36m0:00:00\u001b[0m\n",
            "\u001b[?25h  Preparing metadata (setup.py) ... \u001b[?25l\u001b[?25hdone\n",
            "  Preparing metadata (setup.py) ... \u001b[?25l\u001b[?25hdone\n",
            "\u001b[2K     \u001b[90m━━━━━━━━━━━━━━━━━━━━━━━━━━━━━━━━━━━━━━━━\u001b[0m \u001b[32m2.2/2.2 MB\u001b[0m \u001b[31m17.0 MB/s\u001b[0m eta \u001b[36m0:00:00\u001b[0m\n",
            "\u001b[2K     \u001b[90m━━━━━━━━━━━━━━━━━━━━━━━━━━━━━━━━━━━━━━\u001b[0m \u001b[32m268.8/268.8 kB\u001b[0m \u001b[31m19.4 MB/s\u001b[0m eta \u001b[36m0:00:00\u001b[0m\n",
            "\u001b[2K     \u001b[90m━━━━━━━━━━━━━━━━━━━━━━━━━━━━━━━━━━━━━━━━\u001b[0m \u001b[32m1.3/1.3 MB\u001b[0m \u001b[31m31.4 MB/s\u001b[0m eta \u001b[36m0:00:00\u001b[0m\n",
            "\u001b[?25h  Building wheel for efficientnet-pytorch (setup.py) ... \u001b[?25l\u001b[?25hdone\n",
            "  Building wheel for pretrainedmodels (setup.py) ... \u001b[?25l\u001b[?25hdone\n"
          ]
        }
      ],
      "source": [
        "!pip -q install segmentation-models-pytorch"
      ]
    },
    {
      "cell_type": "code",
      "execution_count": 4,
      "metadata": {
        "colab": {
          "base_uri": "https://localhost:8080/"
        },
        "id": "hR3PhB_hbJYF",
        "outputId": "7133d8f8-2f23-49ec-9847-8f98cfd6dcd2"
      },
      "outputs": [
        {
          "name": "stdout",
          "output_type": "stream",
          "text": [
            "Collecting transformers\n",
            "  Downloading transformers-4.31.0-py3-none-any.whl (7.4 MB)\n",
            "\u001b[2K     \u001b[90m━━━━━━━━━━━━━━━━━━━━━━━━━━━━━━━━━━━━━━━━\u001b[0m \u001b[32m7.4/7.4 MB\u001b[0m \u001b[31m27.4 MB/s\u001b[0m eta \u001b[36m0:00:00\u001b[0m\n",
            "\u001b[?25hRequirement already satisfied: filelock in /usr/local/lib/python3.10/dist-packages (from transformers) (3.12.2)\n",
            "Requirement already satisfied: huggingface-hub<1.0,>=0.14.1 in /usr/local/lib/python3.10/dist-packages (from transformers) (0.16.4)\n",
            "Requirement already satisfied: numpy>=1.17 in /usr/local/lib/python3.10/dist-packages (from transformers) (1.22.4)\n",
            "Requirement already satisfied: packaging>=20.0 in /usr/local/lib/python3.10/dist-packages (from transformers) (23.1)\n",
            "Requirement already satisfied: pyyaml>=5.1 in /usr/local/lib/python3.10/dist-packages (from transformers) (6.0.1)\n",
            "Requirement already satisfied: regex!=2019.12.17 in /usr/local/lib/python3.10/dist-packages (from transformers) (2022.10.31)\n",
            "Requirement already satisfied: requests in /usr/local/lib/python3.10/dist-packages (from transformers) (2.27.1)\n",
            "Collecting tokenizers!=0.11.3,<0.14,>=0.11.1 (from transformers)\n",
            "  Downloading tokenizers-0.13.3-cp310-cp310-manylinux_2_17_x86_64.manylinux2014_x86_64.whl (7.8 MB)\n",
            "\u001b[2K     \u001b[90m━━━━━━━━━━━━━━━━━━━━━━━━━━━━━━━━━━━━━━━━\u001b[0m \u001b[32m7.8/7.8 MB\u001b[0m \u001b[31m80.3 MB/s\u001b[0m eta \u001b[36m0:00:00\u001b[0m\n",
            "\u001b[?25hRequirement already satisfied: safetensors>=0.3.1 in /usr/local/lib/python3.10/dist-packages (from transformers) (0.3.1)\n",
            "Requirement already satisfied: tqdm>=4.27 in /usr/local/lib/python3.10/dist-packages (from transformers) (4.65.0)\n",
            "Requirement already satisfied: fsspec in /usr/local/lib/python3.10/dist-packages (from huggingface-hub<1.0,>=0.14.1->transformers) (2023.6.0)\n",
            "Requirement already satisfied: typing-extensions>=3.7.4.3 in /usr/local/lib/python3.10/dist-packages (from huggingface-hub<1.0,>=0.14.1->transformers) (4.7.1)\n",
            "Requirement already satisfied: urllib3<1.27,>=1.21.1 in /usr/local/lib/python3.10/dist-packages (from requests->transformers) (1.26.16)\n",
            "Requirement already satisfied: certifi>=2017.4.17 in /usr/local/lib/python3.10/dist-packages (from requests->transformers) (2023.5.7)\n",
            "Requirement already satisfied: charset-normalizer~=2.0.0 in /usr/local/lib/python3.10/dist-packages (from requests->transformers) (2.0.12)\n",
            "Requirement already satisfied: idna<4,>=2.5 in /usr/local/lib/python3.10/dist-packages (from requests->transformers) (3.4)\n",
            "Installing collected packages: tokenizers, transformers\n",
            "Successfully installed tokenizers-0.13.3 transformers-4.31.0\n"
          ]
        }
      ],
      "source": [
        "!pip install transformers"
      ]
    },
    {
      "cell_type": "markdown",
      "metadata": {
        "id": "G5tGvTH36Th2"
      },
      "source": [
        "# Data Preparations"
      ]
    },
    {
      "cell_type": "code",
      "execution_count": 5,
      "metadata": {
        "id": "7TZfJncGw95t"
      },
      "outputs": [],
      "source": [
        "import random, os, cv2\n",
        "\n",
        "import numpy as np\n",
        "import pandas as pd\n",
        "\n",
        "from glob import glob\n",
        "\n",
        "import torch\n",
        "import torch.nn as nn\n",
        "import torch.nn.functional as F\n",
        "\n",
        "import torch.optim as optim\n",
        "from torch.utils.data import Dataset, DataLoader\n",
        "\n",
        "import segmentation_models_pytorch as smp\n",
        "import albumentations as A\n",
        "\n",
        "from matplotlib import pyplot as plt\n",
        "from matplotlib.patches import Rectangle\n",
        "\n",
        "import warnings\n",
        "warnings.filterwarnings(\"ignore\")"
      ]
    },
    {
      "cell_type": "code",
      "execution_count": 6,
      "metadata": {
        "id": "Z91ILeR7lu1q"
      },
      "outputs": [],
      "source": [
        "def cv_equalize_hist(img):\n",
        "  img = cv2.normalize(img, None, 255, 0, cv2.NORM_MINMAX, cv2.CV_8U)\n",
        "\n",
        "  img_yuv = cv2.cvtColor(img, cv2.COLOR_BGR2YUV)\n",
        "  img_yuv[:,:,0] = cv2.equalizeHist(img_yuv[:,:,0])\n",
        "  img_output = cv2.cvtColor(img_yuv, cv2.COLOR_YUV2BGR)\n",
        "  return img_output\n",
        "\n",
        "def equalize_clahe(img, cl, gs):\n",
        "  img = cv2.normalize(img, None, 255, 0, cv2.NORM_MINMAX, cv2.CV_8UC1)\n",
        "  hsv_img = cv2.cvtColor(img, cv2.COLOR_BGR2HSV)\n",
        "  h, s, v = hsv_img[:,:,0],  hsv_img[:,:,1], hsv_img[:,:,2]\n",
        "\n",
        "  clahe = cv2.createCLAHE(clipLimit = cl, tileGridSize = gs)\n",
        "  v = clahe.apply(v)\n",
        "  hsv_img = np.dstack((h,s,v))\n",
        "  rgb = cv2.cvtColor(hsv_img, cv2.COLOR_HSV2BGR)\n",
        "\n",
        "  return rgb"
      ]
    },
    {
      "cell_type": "code",
      "execution_count": 7,
      "metadata": {
        "id": "vVfaQYZB_Azn"
      },
      "outputs": [],
      "source": [
        "def Augment(mode):\n",
        "\n",
        "    if mode == \"train\":\n",
        "        return A.Compose([A.RandomContrast( p=0.2),\n",
        "                          A.RandomGamma(p=0.2),\n",
        "                        #   A.RandomBrightness(p=0.2),\n",
        "                          A.Normalize(mean=(0.485, 0.456, 0.406), std=(0.229, 0.224, 0.225)), # default imagenet mean & std.\n",
        "                          A.HorizontalFlip(p=0.5),\n",
        "                          A.VerticalFlip(p=0.5)],\n",
        "                         additional_targets={'image2': 'image'}) # this is to augment both the normal and infrared sattellite images.\n",
        "\n",
        "    else: # valid test\n",
        "        return A.Compose([A.Normalize(mean=(0.485, 0.456, 0.406), std=(0.229, 0.224, 0.225))],\n",
        "                         additional_targets={'image2': 'image'})\n",
        "\n",
        "class FOREST(Dataset):\n",
        "    def __init__(self,\n",
        "                 visible_folder,\n",
        "                 infrared_folder,\n",
        "                 mask_folder,\n",
        "                 label_file,\n",
        "                 mode = \"train\" # train | valid | test\n",
        "                ):\n",
        "\n",
        "        _label_df = pd.read_csv(label_file)\n",
        "        self.label_df        = _label_df[_label_df[\"mode\"] == mode]\n",
        "        self.mode            = mode\n",
        "        self.visible_folder  = visible_folder\n",
        "        self.infrared_folder = infrared_folder\n",
        "        self.mask_folder     = mask_folder\n",
        "        self.augment         = Augment(mode)\n",
        "        self.mask_dict       = {\"plantation\"             : 1,\n",
        "                                \"grassland shrubland\"    : 2,\n",
        "                                \"smallholder agriculture\": 3,\n",
        "                                \"other\"                  : 4}\n",
        "\n",
        "    def __len__(self):\n",
        "        return len(self.label_df)\n",
        "\n",
        "    def __getitem__(self, index):\n",
        "\n",
        "        case_id, deforestation_type, lat, long, year, _ = self.label_df.iloc[index].to_list()\n",
        "\n",
        "        # load image and mask\n",
        "        visible  = cv2.imread(self.visible_folder  + str(case_id) + \"/composite.png\")\n",
        "        infrared = cv2.imread(self.infrared_folder + str(case_id) + \"/composite.png\")\n",
        "        mask     = cv2.imread(self.mask_folder     + str(case_id) + \".png\", 0) if (self.mode != \"test\") else np.zeros(visible.shape[:2]) # dummy mask for test-set case.\n",
        "\n",
        "        # convert the foreground region in the mask to the corressponding label integer\n",
        "        label = self.mask_dict[deforestation_type]\n",
        "        mask[mask == 1.] = label\n",
        "\n",
        "        #augment mask and image\n",
        "        visible, infrared, mask = self.augment(image  = visible,\n",
        "                                               image2 = infrared,\n",
        "                                               mask   = mask).values()\n",
        "\n",
        "        # concat visible and infared and a single 5-channel image\n",
        "        image = np.concatenate((equalize_clahe(visible, 2.0, (32, 32)), infrared), axis = -1)\n",
        "\n",
        "        return torch.tensor(image), torch.tensor(mask), label, case_id"
      ]
    },
    {
      "cell_type": "code",
      "execution_count": 8,
      "metadata": {
        "id": "0_LfCrZhCVzH"
      },
      "outputs": [],
      "source": [
        "def show_image(image,\n",
        "               mask   = None,\n",
        "               labels = [\"no deforestation\",\n",
        "                         \"plantation\",\n",
        "                         \"grassland shrubland\",\n",
        "                         \"smallholder agriculture\",\n",
        "                         \"other\"],\n",
        "               colors = np.array([(0.,0.,0.),\n",
        "                                  (0.667,0.,0.),\n",
        "                                  (0.,0.667,0.677),\n",
        "                                  (0.,0.,0.667),\n",
        "                                  (0.667, 0.667, 0.667)])):\n",
        "\n",
        "    # copy to prevent from modifying the input image and mask\n",
        "    image = np.copy(image)\n",
        "    mask  = np.copy(mask) if mask is not None else mask\n",
        "\n",
        "    # normalize to [0-1]\n",
        "    image = (image - image.min())/(image.max() - image.min())\n",
        "    # add good-looking color\n",
        "    mask  = colors[mask] if mask is not None else mask\n",
        "\n",
        "    plt.imshow(image, cmap='bone')\n",
        "    if mask is not None:\n",
        "        plt.imshow(mask, alpha=0.6)\n",
        "        handles = [Rectangle((0,0),1,1, color=color) for color in colors]\n",
        "        plt.legend(handles, labels)\n",
        "    plt.axis('off')\n",
        "\n",
        "    return None"
      ]
    },
    {
      "cell_type": "code",
      "execution_count": 9,
      "metadata": {
        "colab": {
          "base_uri": "https://localhost:8080/",
          "height": 175,
          "referenced_widgets": [
            "98e19fec5e194e76b7e9a9b6a7058794",
            "5dacf04c7f7c429d84d185d8bd74c1b1",
            "69e533c685c54d5082c202d42fe1e211",
            "111ae95520ce44ba8c3db1bb3bc782c9",
            "088f7afab2d444e0b21b230902194b93",
            "0899023444bf4577996c5df34e6d800c",
            "d9b39e1ae4c9497c9a556b3138f6b6e9",
            "ed96b0f6b5df493ea56242059fa336a1",
            "2520f5c463354792b94d4d2e1a18ee87",
            "dbbaf1b924d14ce28d939462de3064ee",
            "ab3863e31b86416db807f38ddab51344",
            "7bcf3890417b443284015d5e4a54dfda",
            "057aa45ea1dc41678ae87244f5ec918b",
            "5480b495ee9a4999a247a2644a0578c6",
            "2676e33883d9458abaecf06b8f9d9f94",
            "2ab7d75969cf418d96a3e6970cb5c0fc",
            "26688071b5614f8a980a7abfea4b440e",
            "bfef14d48dce4da6a323ed9395cab43f",
            "763c03e808c94124a64a2cd8f7033a4e",
            "6d2bbfb3a745407d9469f3db9022c8e7",
            "4720a63bd4d44861acc71a24f3b99825",
            "97884d9c57bf48088257533e92ed94ef"
          ]
        },
        "id": "baRAsX8jC12w",
        "outputId": "caa48ec5-7773-41be-a933-1bc82e44997d"
      },
      "outputs": [
        {
          "data": {
            "application/vnd.jupyter.widget-view+json": {
              "model_id": "98e19fec5e194e76b7e9a9b6a7058794",
              "version_major": 2,
              "version_minor": 0
            },
            "text/plain": [
              "Downloading (…)lve/main/config.json:   0%|          | 0.00/6.89k [00:00<?, ?B/s]"
            ]
          },
          "metadata": {},
          "output_type": "display_data"
        },
        {
          "data": {
            "application/vnd.jupyter.widget-view+json": {
              "model_id": "7bcf3890417b443284015d5e4a54dfda",
              "version_major": 2,
              "version_minor": 0
            },
            "text/plain": [
              "Downloading pytorch_model.bin:   0%|          | 0.00/339M [00:00<?, ?B/s]"
            ]
          },
          "metadata": {},
          "output_type": "display_data"
        },
        {
          "name": "stderr",
          "output_type": "stream",
          "text": [
            "Some weights of SegformerForSemanticSegmentation were not initialized from the model checkpoint at nvidia/segformer-b5-finetuned-ade-640-640 and are newly initialized because the shapes did not match:\n",
            "- segformer.encoder.patch_embeddings.0.proj.weight: found shape torch.Size([64, 3, 7, 7]) in the checkpoint and torch.Size([64, 6, 7, 7]) in the model instantiated\n",
            "- decode_head.classifier.weight: found shape torch.Size([150, 768, 1, 1]) in the checkpoint and torch.Size([5, 768, 1, 1]) in the model instantiated\n",
            "- decode_head.classifier.bias: found shape torch.Size([150]) in the checkpoint and torch.Size([5]) in the model instantiated\n",
            "You should probably TRAIN this model on a down-stream task to be able to use it for predictions and inference.\n"
          ]
        }
      ],
      "source": [
        "from transformers import SegformerForSemanticSegmentation\n",
        "\n",
        "pretrained_model_name = \"nvidia/segformer-b5-finetuned-ade-640-640\"\n",
        "# pretrained_model = \"nvidia/segformer-b5-finetuned-cityscapes-1024-1024\"\n",
        "model = SegformerForSemanticSegmentation.from_pretrained(\n",
        "    pretrained_model_name,\n",
        "    num_labels=5,\n",
        "    num_channels=6,\n",
        "    ignore_mismatched_sizes=True\n",
        ").cuda()"
      ]
    },
    {
      "cell_type": "code",
      "execution_count": 10,
      "metadata": {
        "id": "PAiCxFNTE7Fk"
      },
      "outputs": [],
      "source": [
        "def dice_loss(logits, true, eps=1e-7):\n",
        "    \"\"\"Computes the Sørensen–Dice loss.\n",
        "    Note that PyTorch optimizers minimize a loss. In this\n",
        "    case, we would like to maximize the dice loss so we\n",
        "    return the negated dice loss.\n",
        "    Args:\n",
        "        true: a tensor of shape [B, H, W].\n",
        "        logits: a tensor of shape [B, C, H, W]. Corresponds to\n",
        "            the raw output or logits of the model.\n",
        "        eps: added to the denominator for numerical stability.\n",
        "    Returns:\n",
        "        dice_loss: the Sørensen–Dice loss.\n",
        "    \"\"\"\n",
        "    logits = logits.logits\n",
        "    true = true.unsqueeze(1)\n",
        "\n",
        "    # scale the logits to the size of the label\n",
        "    logits = nn.functional.interpolate(\n",
        "        logits,\n",
        "        size=true.shape[-2:],\n",
        "        mode=\"bilinear\",\n",
        "        align_corners=False,\n",
        "    )\n",
        "\n",
        "    num_classes = logits.shape[1]\n",
        "    if num_classes == 1:\n",
        "        true_1_hot = torch.eye(num_classes + 1)[true.squeeze(1)]\n",
        "        true_1_hot = true_1_hot.permute(0, 3, 1, 2).float()\n",
        "        true_1_hot_f = true_1_hot[:, 0:1, :, :]\n",
        "        true_1_hot_s = true_1_hot[:, 1:2, :, :]\n",
        "        true_1_hot = torch.cat([true_1_hot_s, true_1_hot_f], dim=1)\n",
        "        pos_prob = torch.sigmoid(logits)\n",
        "        neg_prob = 1 - pos_prob\n",
        "        probas = torch.cat([pos_prob, neg_prob], dim=1)\n",
        "    else:\n",
        "        true_1_hot = torch.eye(num_classes, device=\"cuda\")[true.squeeze(1)]\n",
        "        true_1_hot = true_1_hot.permute(0, 3, 1, 2).float()\n",
        "        probas = F.softmax(logits.float(), dim=1)\n",
        "    true_1_hot = true_1_hot.type(logits.type())\n",
        "    dims = (0,) + tuple(range(2, true.ndimension()))\n",
        "    intersection = torch.sum(probas * true_1_hot, dims)\n",
        "    cardinality = torch.sum(probas + true_1_hot, dims)\n",
        "    dice_loss = (2. * intersection / (cardinality + eps)).mean()\n",
        "    return (1 - dice_loss)\n",
        "\n",
        "# hard dice score for vadiation set evaluation\n",
        "def hard_dice(pred, mask, label):\n",
        "\n",
        "    #pick the channel that coressponds to the true label\n",
        "    pred = (torch.argmax(pred, dim = 1) == label).long().view(-1)\n",
        "    mask = mask.view(-1)\n",
        "\n",
        "    # compute hard dice score for the foreground region\n",
        "    score = (torch.sum(pred * mask)*2)/ (torch.sum(pred) + torch.sum(mask))\n",
        "\n",
        "    return np.array(score)"
      ]
    },
    {
      "cell_type": "code",
      "execution_count": 11,
      "metadata": {
        "id": "OtmiM_08E8yG"
      },
      "outputs": [],
      "source": [
        "loss_fn = dice_loss\n",
        "optimizer = optim.Adam(model.parameters(), lr=0.00006)"
      ]
    },
    {
      "cell_type": "code",
      "execution_count": 12,
      "metadata": {
        "id": "K4meTtBkE-XS"
      },
      "outputs": [],
      "source": [
        "from tqdm import tqdm\n",
        "\n",
        "def train(trainloader, validloader, model,\n",
        "          n_epoch = 10):\n",
        "\n",
        "    pbar = tqdm(range(n_epoch))\n",
        "    for epoch in pbar:\n",
        "        model.train()\n",
        "        train_loss = train_epoch(trainloader, model)\n",
        "\n",
        "        with torch.no_grad():\n",
        "            valid_dice = evaluate_epoch(validloader, model)\n",
        "\n",
        "        pbar.set_postfix_str(f\"Loss: {round(train_loss, 4)} valid_dice: {round(valid_dice, 4)}\")\n",
        "\n",
        "    return model\n",
        "\n",
        "def train_epoch(trainloader, model):\n",
        "\n",
        "    losses = []\n",
        "    for (inputs, targets, *_) in trainloader:\n",
        "        # forward pass\n",
        "        outputs = model(inputs.permute(0,-1,1,2).cuda()) # channel first\n",
        "        targets = targets.long().cuda()\n",
        "\n",
        "        # calculate loss\n",
        "        loss = loss_fn(outputs, targets)\n",
        "\n",
        "        # backward pass and update weights\n",
        "        optimizer.zero_grad()\n",
        "        loss.backward()\n",
        "        optimizer.step()\n",
        "\n",
        "        losses.append(loss.item())\n",
        "\n",
        "    return np.mean(losses)\n",
        "\n",
        "def evaluate_epoch(validloader, model):\n",
        "\n",
        "    scores = []\n",
        "    for (inputs, targets, label, _) in validloader:\n",
        "        outputs = model(inputs.permute(0,-1,1,2).cuda()).logits\n",
        "        outputs = nn.functional.interpolate(\n",
        "            outputs,\n",
        "            size=[320, 320],\n",
        "            mode=\"bilinear\",\n",
        "            align_corners=False,\n",
        "        ).detach().cpu() #channel first\n",
        "        targets = targets.long()\n",
        "\n",
        "        #calculate dice\n",
        "        score = hard_dice(outputs, targets, label)\n",
        "\n",
        "        scores.append(score)\n",
        "\n",
        "    return np.mean(scores)"
      ]
    },
    {
      "cell_type": "code",
      "execution_count": 13,
      "metadata": {
        "colab": {
          "base_uri": "https://localhost:8080/"
        },
        "id": "fSKvCCRxE_-D",
        "outputId": "7aac4a01-559b-4575-a54c-697808e8ee29"
      },
      "outputs": [
        {
          "name": "stderr",
          "output_type": "stream",
          "text": [
            "100%|██████████| 20/20 [2:41:19<00:00, 483.96s/it, Loss: 0.5792 valid_dice: 0.3953999876976013]\n"
          ]
        }
      ],
      "source": [
        "train_dataset = FOREST(VISIBLE_FOLDER, INFRARED_FOLDER, MASK_FOLDER, LABEL_FILE,\n",
        "                       mode = \"train\")\n",
        "valid_dataset = FOREST(VISIBLE_FOLDER, INFRARED_FOLDER, MASK_FOLDER, LABEL_FILE,\n",
        "                       mode = \"valid\")\n",
        "\n",
        "train_loader = DataLoader(train_dataset,\n",
        "                          batch_size  = 12,\n",
        "                          num_workers = 16,\n",
        "                          shuffle     = True,\n",
        "                          pin_memory  = True)\n",
        "\n",
        "valid_loader = DataLoader(train_dataset,\n",
        "                          batch_size  = 1,\n",
        "                          num_workers = 4,\n",
        "                          shuffle     = False,\n",
        "                          pin_memory  = False)\n",
        "\n",
        "model = train(train_loader, valid_loader, model,\n",
        "              n_epoch = 20)"
      ]
    },
    {
      "cell_type": "code",
      "execution_count": null,
      "metadata": {
        "colab": {
          "background_save": true
        },
        "id": "Uzb3o5tJFEmc"
      },
      "outputs": [],
      "source": [
        "# lets define mask to RLE conversion\n",
        "def rle_encode(mask_image):\n",
        "    pixels = mask_image.flatten()\n",
        "    pixels[0] = 0\n",
        "    pixels[-1] = 0\n",
        "    runs = np.where(pixels[1:] != pixels[:-1])[0] + 2\n",
        "    runs[1::2] = runs[1::2] - runs[:-1:2]\n",
        "\n",
        "    # to string format\n",
        "    runs = ' '.join(str(x) for x in runs)\n",
        "\n",
        "    return runs\n",
        "\n",
        "def predict(model, loader):\n",
        "\n",
        "    test_results = []\n",
        "    for (inputs, _, label, image_id) in loader:\n",
        "\n",
        "        # forward pass\n",
        "        pred = model(inputs.permute(0,-1,1,2).cuda()).logits # channel first\n",
        "        pred = nn.functional.interpolate(\n",
        "            pred,\n",
        "            size=[320, 320],\n",
        "            mode=\"bilinear\",\n",
        "            align_corners=False,\n",
        "        )\n",
        "        # move back to cpu\n",
        "        pred     = pred.detach().cpu()\n",
        "        image_id = str(image_id[0].item())\n",
        "\n",
        "        #pick the channel that coressponds to the true label\n",
        "        pred = (torch.argmax(pred, dim = 1) == label).squeeze(0).long().numpy()\n",
        "\n",
        "        #convert to rle\n",
        "        pred_rle = rle_encode(pred)\n",
        "\n",
        "        test_results.append({\"image_id\" : image_id,\n",
        "                             \"pred_rle\" : pred_rle})\n",
        "\n",
        "    return test_results"
      ]
    },
    {
      "cell_type": "code",
      "execution_count": null,
      "metadata": {
        "id": "UswlcaGaFHSb"
      },
      "outputs": [],
      "source": [
        "test_dataset = FOREST(VISIBLE_FOLDER, INFRARED_FOLDER, MASK_FOLDER, LABEL_FILE,\n",
        "                      mode = \"test\")\n",
        "\n",
        "test_loader = DataLoader(test_dataset,\n",
        "                         batch_size  = 1,\n",
        "                         num_workers = 14,\n",
        "                         shuffle     = False,\n",
        "                         pin_memory  = False)\n",
        "\n",
        "\n",
        "test_results = predict(model, test_loader)\n",
        "\n",
        "df_submission = pd.DataFrame.from_dict(test_results)\n",
        "\n",
        "df_submission.to_csv(\"my_submission.csv\", index = False)"
      ]
    },
    {
      "cell_type": "code",
      "execution_count": null,
      "metadata": {
        "id": "U-P5j0W7c0n3"
      },
      "outputs": [],
      "source": [
        "from google.colab import files\n",
        "files.download(\"my_submission.csv\")"
      ]
    },
    {
      "cell_type": "code",
      "execution_count": null,
      "metadata": {
        "id": "pvOSgoNwCFHI"
      },
      "outputs": [],
      "source": [
        "model.save_pretrained(\"./segformer\")"
      ]
    },
    {
      "cell_type": "code",
      "execution_count": null,
      "metadata": {
        "colab": {
          "base_uri": "https://localhost:8080/"
        },
        "id": "6qFuOqn77Eda",
        "outputId": "e4bea505-d19b-4520-9aa6-e2fbb90a277d"
      },
      "outputs": [
        {
          "name": "stdout",
          "output_type": "stream",
          "text": [
            "  adding: segformer/ (stored 0%)\n",
            "  adding: segformer/pytorch_model.bin (deflated 7%)\n",
            "  adding: segformer/config.json (deflated 57%)\n"
          ]
        }
      ],
      "source": [
        "!zip -r segformer.zip ./segformer"
      ]
    },
    {
      "cell_type": "code",
      "execution_count": null,
      "metadata": {
        "id": "jkar9ozW7nd5"
      },
      "outputs": [],
      "source": []
    }
  ],
  "metadata": {
    "accelerator": "GPU",
    "colab": {
      "provenance": []
    },
    "kernelspec": {
      "display_name": "Python 3",
      "name": "python3"
    },
    "language_info": {
      "name": "python"
    },
    "widgets": {
      "application/vnd.jupyter.widget-state+json": {
        "057aa45ea1dc41678ae87244f5ec918b": {
          "model_module": "@jupyter-widgets/controls",
          "model_module_version": "1.5.0",
          "model_name": "HTMLModel",
          "state": {
            "_dom_classes": [],
            "_model_module": "@jupyter-widgets/controls",
            "_model_module_version": "1.5.0",
            "_model_name": "HTMLModel",
            "_view_count": null,
            "_view_module": "@jupyter-widgets/controls",
            "_view_module_version": "1.5.0",
            "_view_name": "HTMLView",
            "description": "",
            "description_tooltip": null,
            "layout": "IPY_MODEL_26688071b5614f8a980a7abfea4b440e",
            "placeholder": "​",
            "style": "IPY_MODEL_bfef14d48dce4da6a323ed9395cab43f",
            "value": "Downloading pytorch_model.bin: 100%"
          }
        },
        "088f7afab2d444e0b21b230902194b93": {
          "model_module": "@jupyter-widgets/base",
          "model_module_version": "1.2.0",
          "model_name": "LayoutModel",
          "state": {
            "_model_module": "@jupyter-widgets/base",
            "_model_module_version": "1.2.0",
            "_model_name": "LayoutModel",
            "_view_count": null,
            "_view_module": "@jupyter-widgets/base",
            "_view_module_version": "1.2.0",
            "_view_name": "LayoutView",
            "align_content": null,
            "align_items": null,
            "align_self": null,
            "border": null,
            "bottom": null,
            "display": null,
            "flex": null,
            "flex_flow": null,
            "grid_area": null,
            "grid_auto_columns": null,
            "grid_auto_flow": null,
            "grid_auto_rows": null,
            "grid_column": null,
            "grid_gap": null,
            "grid_row": null,
            "grid_template_areas": null,
            "grid_template_columns": null,
            "grid_template_rows": null,
            "height": null,
            "justify_content": null,
            "justify_items": null,
            "left": null,
            "margin": null,
            "max_height": null,
            "max_width": null,
            "min_height": null,
            "min_width": null,
            "object_fit": null,
            "object_position": null,
            "order": null,
            "overflow": null,
            "overflow_x": null,
            "overflow_y": null,
            "padding": null,
            "right": null,
            "top": null,
            "visibility": null,
            "width": null
          }
        },
        "0899023444bf4577996c5df34e6d800c": {
          "model_module": "@jupyter-widgets/base",
          "model_module_version": "1.2.0",
          "model_name": "LayoutModel",
          "state": {
            "_model_module": "@jupyter-widgets/base",
            "_model_module_version": "1.2.0",
            "_model_name": "LayoutModel",
            "_view_count": null,
            "_view_module": "@jupyter-widgets/base",
            "_view_module_version": "1.2.0",
            "_view_name": "LayoutView",
            "align_content": null,
            "align_items": null,
            "align_self": null,
            "border": null,
            "bottom": null,
            "display": null,
            "flex": null,
            "flex_flow": null,
            "grid_area": null,
            "grid_auto_columns": null,
            "grid_auto_flow": null,
            "grid_auto_rows": null,
            "grid_column": null,
            "grid_gap": null,
            "grid_row": null,
            "grid_template_areas": null,
            "grid_template_columns": null,
            "grid_template_rows": null,
            "height": null,
            "justify_content": null,
            "justify_items": null,
            "left": null,
            "margin": null,
            "max_height": null,
            "max_width": null,
            "min_height": null,
            "min_width": null,
            "object_fit": null,
            "object_position": null,
            "order": null,
            "overflow": null,
            "overflow_x": null,
            "overflow_y": null,
            "padding": null,
            "right": null,
            "top": null,
            "visibility": null,
            "width": null
          }
        },
        "111ae95520ce44ba8c3db1bb3bc782c9": {
          "model_module": "@jupyter-widgets/controls",
          "model_module_version": "1.5.0",
          "model_name": "HTMLModel",
          "state": {
            "_dom_classes": [],
            "_model_module": "@jupyter-widgets/controls",
            "_model_module_version": "1.5.0",
            "_model_name": "HTMLModel",
            "_view_count": null,
            "_view_module": "@jupyter-widgets/controls",
            "_view_module_version": "1.5.0",
            "_view_name": "HTMLView",
            "description": "",
            "description_tooltip": null,
            "layout": "IPY_MODEL_dbbaf1b924d14ce28d939462de3064ee",
            "placeholder": "​",
            "style": "IPY_MODEL_ab3863e31b86416db807f38ddab51344",
            "value": " 6.89k/6.89k [00:00&lt;00:00, 279kB/s]"
          }
        },
        "2520f5c463354792b94d4d2e1a18ee87": {
          "model_module": "@jupyter-widgets/controls",
          "model_module_version": "1.5.0",
          "model_name": "ProgressStyleModel",
          "state": {
            "_model_module": "@jupyter-widgets/controls",
            "_model_module_version": "1.5.0",
            "_model_name": "ProgressStyleModel",
            "_view_count": null,
            "_view_module": "@jupyter-widgets/base",
            "_view_module_version": "1.2.0",
            "_view_name": "StyleView",
            "bar_color": null,
            "description_width": ""
          }
        },
        "26688071b5614f8a980a7abfea4b440e": {
          "model_module": "@jupyter-widgets/base",
          "model_module_version": "1.2.0",
          "model_name": "LayoutModel",
          "state": {
            "_model_module": "@jupyter-widgets/base",
            "_model_module_version": "1.2.0",
            "_model_name": "LayoutModel",
            "_view_count": null,
            "_view_module": "@jupyter-widgets/base",
            "_view_module_version": "1.2.0",
            "_view_name": "LayoutView",
            "align_content": null,
            "align_items": null,
            "align_self": null,
            "border": null,
            "bottom": null,
            "display": null,
            "flex": null,
            "flex_flow": null,
            "grid_area": null,
            "grid_auto_columns": null,
            "grid_auto_flow": null,
            "grid_auto_rows": null,
            "grid_column": null,
            "grid_gap": null,
            "grid_row": null,
            "grid_template_areas": null,
            "grid_template_columns": null,
            "grid_template_rows": null,
            "height": null,
            "justify_content": null,
            "justify_items": null,
            "left": null,
            "margin": null,
            "max_height": null,
            "max_width": null,
            "min_height": null,
            "min_width": null,
            "object_fit": null,
            "object_position": null,
            "order": null,
            "overflow": null,
            "overflow_x": null,
            "overflow_y": null,
            "padding": null,
            "right": null,
            "top": null,
            "visibility": null,
            "width": null
          }
        },
        "2676e33883d9458abaecf06b8f9d9f94": {
          "model_module": "@jupyter-widgets/controls",
          "model_module_version": "1.5.0",
          "model_name": "HTMLModel",
          "state": {
            "_dom_classes": [],
            "_model_module": "@jupyter-widgets/controls",
            "_model_module_version": "1.5.0",
            "_model_name": "HTMLModel",
            "_view_count": null,
            "_view_module": "@jupyter-widgets/controls",
            "_view_module_version": "1.5.0",
            "_view_name": "HTMLView",
            "description": "",
            "description_tooltip": null,
            "layout": "IPY_MODEL_4720a63bd4d44861acc71a24f3b99825",
            "placeholder": "​",
            "style": "IPY_MODEL_97884d9c57bf48088257533e92ed94ef",
            "value": " 339M/339M [00:01&lt;00:00, 271MB/s]"
          }
        },
        "2ab7d75969cf418d96a3e6970cb5c0fc": {
          "model_module": "@jupyter-widgets/base",
          "model_module_version": "1.2.0",
          "model_name": "LayoutModel",
          "state": {
            "_model_module": "@jupyter-widgets/base",
            "_model_module_version": "1.2.0",
            "_model_name": "LayoutModel",
            "_view_count": null,
            "_view_module": "@jupyter-widgets/base",
            "_view_module_version": "1.2.0",
            "_view_name": "LayoutView",
            "align_content": null,
            "align_items": null,
            "align_self": null,
            "border": null,
            "bottom": null,
            "display": null,
            "flex": null,
            "flex_flow": null,
            "grid_area": null,
            "grid_auto_columns": null,
            "grid_auto_flow": null,
            "grid_auto_rows": null,
            "grid_column": null,
            "grid_gap": null,
            "grid_row": null,
            "grid_template_areas": null,
            "grid_template_columns": null,
            "grid_template_rows": null,
            "height": null,
            "justify_content": null,
            "justify_items": null,
            "left": null,
            "margin": null,
            "max_height": null,
            "max_width": null,
            "min_height": null,
            "min_width": null,
            "object_fit": null,
            "object_position": null,
            "order": null,
            "overflow": null,
            "overflow_x": null,
            "overflow_y": null,
            "padding": null,
            "right": null,
            "top": null,
            "visibility": null,
            "width": null
          }
        },
        "4720a63bd4d44861acc71a24f3b99825": {
          "model_module": "@jupyter-widgets/base",
          "model_module_version": "1.2.0",
          "model_name": "LayoutModel",
          "state": {
            "_model_module": "@jupyter-widgets/base",
            "_model_module_version": "1.2.0",
            "_model_name": "LayoutModel",
            "_view_count": null,
            "_view_module": "@jupyter-widgets/base",
            "_view_module_version": "1.2.0",
            "_view_name": "LayoutView",
            "align_content": null,
            "align_items": null,
            "align_self": null,
            "border": null,
            "bottom": null,
            "display": null,
            "flex": null,
            "flex_flow": null,
            "grid_area": null,
            "grid_auto_columns": null,
            "grid_auto_flow": null,
            "grid_auto_rows": null,
            "grid_column": null,
            "grid_gap": null,
            "grid_row": null,
            "grid_template_areas": null,
            "grid_template_columns": null,
            "grid_template_rows": null,
            "height": null,
            "justify_content": null,
            "justify_items": null,
            "left": null,
            "margin": null,
            "max_height": null,
            "max_width": null,
            "min_height": null,
            "min_width": null,
            "object_fit": null,
            "object_position": null,
            "order": null,
            "overflow": null,
            "overflow_x": null,
            "overflow_y": null,
            "padding": null,
            "right": null,
            "top": null,
            "visibility": null,
            "width": null
          }
        },
        "5480b495ee9a4999a247a2644a0578c6": {
          "model_module": "@jupyter-widgets/controls",
          "model_module_version": "1.5.0",
          "model_name": "FloatProgressModel",
          "state": {
            "_dom_classes": [],
            "_model_module": "@jupyter-widgets/controls",
            "_model_module_version": "1.5.0",
            "_model_name": "FloatProgressModel",
            "_view_count": null,
            "_view_module": "@jupyter-widgets/controls",
            "_view_module_version": "1.5.0",
            "_view_name": "ProgressView",
            "bar_style": "success",
            "description": "",
            "description_tooltip": null,
            "layout": "IPY_MODEL_763c03e808c94124a64a2cd8f7033a4e",
            "max": 339299397,
            "min": 0,
            "orientation": "horizontal",
            "style": "IPY_MODEL_6d2bbfb3a745407d9469f3db9022c8e7",
            "value": 339299397
          }
        },
        "5dacf04c7f7c429d84d185d8bd74c1b1": {
          "model_module": "@jupyter-widgets/controls",
          "model_module_version": "1.5.0",
          "model_name": "HTMLModel",
          "state": {
            "_dom_classes": [],
            "_model_module": "@jupyter-widgets/controls",
            "_model_module_version": "1.5.0",
            "_model_name": "HTMLModel",
            "_view_count": null,
            "_view_module": "@jupyter-widgets/controls",
            "_view_module_version": "1.5.0",
            "_view_name": "HTMLView",
            "description": "",
            "description_tooltip": null,
            "layout": "IPY_MODEL_0899023444bf4577996c5df34e6d800c",
            "placeholder": "​",
            "style": "IPY_MODEL_d9b39e1ae4c9497c9a556b3138f6b6e9",
            "value": "Downloading (…)lve/main/config.json: 100%"
          }
        },
        "69e533c685c54d5082c202d42fe1e211": {
          "model_module": "@jupyter-widgets/controls",
          "model_module_version": "1.5.0",
          "model_name": "FloatProgressModel",
          "state": {
            "_dom_classes": [],
            "_model_module": "@jupyter-widgets/controls",
            "_model_module_version": "1.5.0",
            "_model_name": "FloatProgressModel",
            "_view_count": null,
            "_view_module": "@jupyter-widgets/controls",
            "_view_module_version": "1.5.0",
            "_view_name": "ProgressView",
            "bar_style": "success",
            "description": "",
            "description_tooltip": null,
            "layout": "IPY_MODEL_ed96b0f6b5df493ea56242059fa336a1",
            "max": 6886,
            "min": 0,
            "orientation": "horizontal",
            "style": "IPY_MODEL_2520f5c463354792b94d4d2e1a18ee87",
            "value": 6886
          }
        },
        "6d2bbfb3a745407d9469f3db9022c8e7": {
          "model_module": "@jupyter-widgets/controls",
          "model_module_version": "1.5.0",
          "model_name": "ProgressStyleModel",
          "state": {
            "_model_module": "@jupyter-widgets/controls",
            "_model_module_version": "1.5.0",
            "_model_name": "ProgressStyleModel",
            "_view_count": null,
            "_view_module": "@jupyter-widgets/base",
            "_view_module_version": "1.2.0",
            "_view_name": "StyleView",
            "bar_color": null,
            "description_width": ""
          }
        },
        "763c03e808c94124a64a2cd8f7033a4e": {
          "model_module": "@jupyter-widgets/base",
          "model_module_version": "1.2.0",
          "model_name": "LayoutModel",
          "state": {
            "_model_module": "@jupyter-widgets/base",
            "_model_module_version": "1.2.0",
            "_model_name": "LayoutModel",
            "_view_count": null,
            "_view_module": "@jupyter-widgets/base",
            "_view_module_version": "1.2.0",
            "_view_name": "LayoutView",
            "align_content": null,
            "align_items": null,
            "align_self": null,
            "border": null,
            "bottom": null,
            "display": null,
            "flex": null,
            "flex_flow": null,
            "grid_area": null,
            "grid_auto_columns": null,
            "grid_auto_flow": null,
            "grid_auto_rows": null,
            "grid_column": null,
            "grid_gap": null,
            "grid_row": null,
            "grid_template_areas": null,
            "grid_template_columns": null,
            "grid_template_rows": null,
            "height": null,
            "justify_content": null,
            "justify_items": null,
            "left": null,
            "margin": null,
            "max_height": null,
            "max_width": null,
            "min_height": null,
            "min_width": null,
            "object_fit": null,
            "object_position": null,
            "order": null,
            "overflow": null,
            "overflow_x": null,
            "overflow_y": null,
            "padding": null,
            "right": null,
            "top": null,
            "visibility": null,
            "width": null
          }
        },
        "7bcf3890417b443284015d5e4a54dfda": {
          "model_module": "@jupyter-widgets/controls",
          "model_module_version": "1.5.0",
          "model_name": "HBoxModel",
          "state": {
            "_dom_classes": [],
            "_model_module": "@jupyter-widgets/controls",
            "_model_module_version": "1.5.0",
            "_model_name": "HBoxModel",
            "_view_count": null,
            "_view_module": "@jupyter-widgets/controls",
            "_view_module_version": "1.5.0",
            "_view_name": "HBoxView",
            "box_style": "",
            "children": [
              "IPY_MODEL_057aa45ea1dc41678ae87244f5ec918b",
              "IPY_MODEL_5480b495ee9a4999a247a2644a0578c6",
              "IPY_MODEL_2676e33883d9458abaecf06b8f9d9f94"
            ],
            "layout": "IPY_MODEL_2ab7d75969cf418d96a3e6970cb5c0fc"
          }
        },
        "97884d9c57bf48088257533e92ed94ef": {
          "model_module": "@jupyter-widgets/controls",
          "model_module_version": "1.5.0",
          "model_name": "DescriptionStyleModel",
          "state": {
            "_model_module": "@jupyter-widgets/controls",
            "_model_module_version": "1.5.0",
            "_model_name": "DescriptionStyleModel",
            "_view_count": null,
            "_view_module": "@jupyter-widgets/base",
            "_view_module_version": "1.2.0",
            "_view_name": "StyleView",
            "description_width": ""
          }
        },
        "98e19fec5e194e76b7e9a9b6a7058794": {
          "model_module": "@jupyter-widgets/controls",
          "model_module_version": "1.5.0",
          "model_name": "HBoxModel",
          "state": {
            "_dom_classes": [],
            "_model_module": "@jupyter-widgets/controls",
            "_model_module_version": "1.5.0",
            "_model_name": "HBoxModel",
            "_view_count": null,
            "_view_module": "@jupyter-widgets/controls",
            "_view_module_version": "1.5.0",
            "_view_name": "HBoxView",
            "box_style": "",
            "children": [
              "IPY_MODEL_5dacf04c7f7c429d84d185d8bd74c1b1",
              "IPY_MODEL_69e533c685c54d5082c202d42fe1e211",
              "IPY_MODEL_111ae95520ce44ba8c3db1bb3bc782c9"
            ],
            "layout": "IPY_MODEL_088f7afab2d444e0b21b230902194b93"
          }
        },
        "ab3863e31b86416db807f38ddab51344": {
          "model_module": "@jupyter-widgets/controls",
          "model_module_version": "1.5.0",
          "model_name": "DescriptionStyleModel",
          "state": {
            "_model_module": "@jupyter-widgets/controls",
            "_model_module_version": "1.5.0",
            "_model_name": "DescriptionStyleModel",
            "_view_count": null,
            "_view_module": "@jupyter-widgets/base",
            "_view_module_version": "1.2.0",
            "_view_name": "StyleView",
            "description_width": ""
          }
        },
        "bfef14d48dce4da6a323ed9395cab43f": {
          "model_module": "@jupyter-widgets/controls",
          "model_module_version": "1.5.0",
          "model_name": "DescriptionStyleModel",
          "state": {
            "_model_module": "@jupyter-widgets/controls",
            "_model_module_version": "1.5.0",
            "_model_name": "DescriptionStyleModel",
            "_view_count": null,
            "_view_module": "@jupyter-widgets/base",
            "_view_module_version": "1.2.0",
            "_view_name": "StyleView",
            "description_width": ""
          }
        },
        "d9b39e1ae4c9497c9a556b3138f6b6e9": {
          "model_module": "@jupyter-widgets/controls",
          "model_module_version": "1.5.0",
          "model_name": "DescriptionStyleModel",
          "state": {
            "_model_module": "@jupyter-widgets/controls",
            "_model_module_version": "1.5.0",
            "_model_name": "DescriptionStyleModel",
            "_view_count": null,
            "_view_module": "@jupyter-widgets/base",
            "_view_module_version": "1.2.0",
            "_view_name": "StyleView",
            "description_width": ""
          }
        },
        "dbbaf1b924d14ce28d939462de3064ee": {
          "model_module": "@jupyter-widgets/base",
          "model_module_version": "1.2.0",
          "model_name": "LayoutModel",
          "state": {
            "_model_module": "@jupyter-widgets/base",
            "_model_module_version": "1.2.0",
            "_model_name": "LayoutModel",
            "_view_count": null,
            "_view_module": "@jupyter-widgets/base",
            "_view_module_version": "1.2.0",
            "_view_name": "LayoutView",
            "align_content": null,
            "align_items": null,
            "align_self": null,
            "border": null,
            "bottom": null,
            "display": null,
            "flex": null,
            "flex_flow": null,
            "grid_area": null,
            "grid_auto_columns": null,
            "grid_auto_flow": null,
            "grid_auto_rows": null,
            "grid_column": null,
            "grid_gap": null,
            "grid_row": null,
            "grid_template_areas": null,
            "grid_template_columns": null,
            "grid_template_rows": null,
            "height": null,
            "justify_content": null,
            "justify_items": null,
            "left": null,
            "margin": null,
            "max_height": null,
            "max_width": null,
            "min_height": null,
            "min_width": null,
            "object_fit": null,
            "object_position": null,
            "order": null,
            "overflow": null,
            "overflow_x": null,
            "overflow_y": null,
            "padding": null,
            "right": null,
            "top": null,
            "visibility": null,
            "width": null
          }
        },
        "ed96b0f6b5df493ea56242059fa336a1": {
          "model_module": "@jupyter-widgets/base",
          "model_module_version": "1.2.0",
          "model_name": "LayoutModel",
          "state": {
            "_model_module": "@jupyter-widgets/base",
            "_model_module_version": "1.2.0",
            "_model_name": "LayoutModel",
            "_view_count": null,
            "_view_module": "@jupyter-widgets/base",
            "_view_module_version": "1.2.0",
            "_view_name": "LayoutView",
            "align_content": null,
            "align_items": null,
            "align_self": null,
            "border": null,
            "bottom": null,
            "display": null,
            "flex": null,
            "flex_flow": null,
            "grid_area": null,
            "grid_auto_columns": null,
            "grid_auto_flow": null,
            "grid_auto_rows": null,
            "grid_column": null,
            "grid_gap": null,
            "grid_row": null,
            "grid_template_areas": null,
            "grid_template_columns": null,
            "grid_template_rows": null,
            "height": null,
            "justify_content": null,
            "justify_items": null,
            "left": null,
            "margin": null,
            "max_height": null,
            "max_width": null,
            "min_height": null,
            "min_width": null,
            "object_fit": null,
            "object_position": null,
            "order": null,
            "overflow": null,
            "overflow_x": null,
            "overflow_y": null,
            "padding": null,
            "right": null,
            "top": null,
            "visibility": null,
            "width": null
          }
        }
      }
    }
  },
  "nbformat": 4,
  "nbformat_minor": 0
}
